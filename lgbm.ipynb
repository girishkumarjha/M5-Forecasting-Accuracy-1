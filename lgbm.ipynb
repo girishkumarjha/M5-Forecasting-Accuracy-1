{
 "cells": [
  {
   "cell_type": "markdown",
   "metadata": {
    "colab_type": "text",
    "id": "4cbgwZWWfWpp"
   },
   "source": [
    "# New Section"
   ]
  },
  {
   "cell_type": "code",
   "execution_count": 1,
   "metadata": {
    "colab": {
     "base_uri": "https://localhost:8080/",
     "height": 35
    },
    "colab_type": "code",
    "executionInfo": {
     "elapsed": 27835,
     "status": "ok",
     "timestamp": 1600549871509,
     "user": {
      "displayName": "Lokesh Gupta",
      "photoUrl": "https://lh3.googleusercontent.com/a-/AOh14Gji9BLG_yBHzfpNsVF1-hq2O8seojfrBmtSDr9g=s64",
      "userId": "00605890011976979562"
     },
     "user_tz": -330
    },
    "id": "_ikfKYQ1l0kG",
    "outputId": "107ba458-f057-42f2-d817-e1c9e0eb92e4"
   },
   "outputs": [
    {
     "name": "stdout",
     "output_type": "stream",
     "text": [
      "Mounted at /content/drive\n"
     ]
    }
   ],
   "source": [
    "from google.colab import drive\n",
    "drive.mount('/content/drive')"
   ]
  },
  {
   "cell_type": "markdown",
   "metadata": {
    "colab_type": "text",
    "id": "44Et_9MQ2MDh"
   },
   "source": [
    "**Laod the libraries**"
   ]
  },
  {
   "cell_type": "code",
   "execution_count": 2,
   "metadata": {
    "colab": {
     "base_uri": "https://localhost:8080/",
     "height": 90
    },
    "colab_type": "code",
    "executionInfo": {
     "elapsed": 2650,
     "status": "ok",
     "timestamp": 1600549922111,
     "user": {
      "displayName": "Lokesh Gupta",
      "photoUrl": "https://lh3.googleusercontent.com/a-/AOh14Gji9BLG_yBHzfpNsVF1-hq2O8seojfrBmtSDr9g=s64",
      "userId": "00605890011976979562"
     },
     "user_tz": -330
    },
    "id": "Eao7ODEPFlHM",
    "outputId": "53bef59a-9509-4a4a-b699-f3a54697b782"
   },
   "outputs": [
    {
     "name": "stderr",
     "output_type": "stream",
     "text": [
      "/usr/local/lib/python3.6/dist-packages/statsmodels/tools/_testing.py:19: FutureWarning:\n",
      "\n",
      "pandas.util.testing is deprecated. Use the functions in the public API at pandas.testing instead.\n",
      "\n"
     ]
    }
   ],
   "source": [
    "import pandas as pd\n",
    "import plotly.express as px\n",
    "import numpy as np\n",
    "import plotly.graph_objects as go\n",
    "import matplotlib.pylab as plt\n",
    "import seaborn as sns\n",
    "from tqdm import tqdm\n",
    "import lightgbm as lgb\n",
    "import random \n",
    "import datetime"
   ]
  },
  {
   "cell_type": "markdown",
   "metadata": {
    "colab_type": "text",
    "id": "ZeTnhH4n2W0H"
   },
   "source": [
    "**Load the data**"
   ]
  },
  {
   "cell_type": "code",
   "execution_count": 3,
   "metadata": {
    "colab": {},
    "colab_type": "code",
    "executionInfo": {
     "elapsed": 10952,
     "status": "ok",
     "timestamp": 1600549935304,
     "user": {
      "displayName": "Lokesh Gupta",
      "photoUrl": "https://lh3.googleusercontent.com/a-/AOh14Gji9BLG_yBHzfpNsVF1-hq2O8seojfrBmtSDr9g=s64",
      "userId": "00605890011976979562"
     },
     "user_tz": -330
    },
    "id": "_09KK2vTFlEz"
   },
   "outputs": [],
   "source": [
    "sales = pd.read_csv(\"/content/drive/My Drive/M5 Forcasting/sales_train_evaluation.csv\")\n",
    "price = pd.read_csv(\"/content/drive/My Drive/M5 Forcasting/sell_prices.csv\")\n",
    "cal = pd.read_csv(\"/content/drive/My Drive/M5 Forcasting/calendar.csv\")"
   ]
  },
  {
   "cell_type": "markdown",
   "metadata": {
    "colab_type": "text",
    "id": "weSeaIMP2lfc"
   },
   "source": [
    "**data preprocessing**"
   ]
  },
  {
   "cell_type": "code",
   "execution_count": null,
   "metadata": {
    "colab": {},
    "colab_type": "code",
    "id": "kYb78YQBlL1k"
   },
   "outputs": [],
   "source": [
    "#https://www.kaggle.com/anshuls235/time-series-forecasting-eda-fe-modelling/notebook#2.-Downcasting\n",
    "\n",
    "def downcast(df):\n",
    "\n",
    "    cols = df.dtypes.index.tolist()\n",
    "    types = df.dtypes.values.tolist()\n",
    "\n",
    "    for i,t in enumerate(types):\n",
    "\n",
    "        if 'int' in str(t):\n",
    "            if df[cols[i]].min() > np.iinfo(np.int8).min and df[cols[i]].max() < np.iinfo(np.int8).max:\n",
    "                df[cols[i]] = df[cols[i]].astype(np.int8)\n",
    "            elif df[cols[i]].min() > np.iinfo(np.int16).min and df[cols[i]].max() < np.iinfo(np.int16).max:\n",
    "                df[cols[i]] = df[cols[i]].astype(np.int16)\n",
    "            elif df[cols[i]].min() > np.iinfo(np.int32).min and df[cols[i]].max() < np.iinfo(np.int32).max:\n",
    "                df[cols[i]] = df[cols[i]].astype(np.int32)\n",
    "            else:\n",
    "                df[cols[i]] = df[cols[i]].astype(np.int64)\n",
    "\n",
    "        elif 'float' in str(t):\n",
    "            if df[cols[i]].min() > np.finfo(np.float16).min and df[cols[i]].max() < np.finfo(np.float16).max:\n",
    "                df[cols[i]] = df[cols[i]].astype(np.float16)\n",
    "            elif df[cols[i]].min() > np.finfo(np.float32).min and df[cols[i]].max() < np.finfo(np.float32).max:\n",
    "                df[cols[i]] = df[cols[i]].astype(np.float32)\n",
    "            else:\n",
    "                df[cols[i]] = df[cols[i]].astype(np.float64)\n",
    "\n",
    "        elif t == np.object:\n",
    "            if cols[i] == 'date':\n",
    "                df[cols[i]] = pd.to_datetime(df[cols[i]], format='%Y-%m-%d')\n",
    "            else:\n",
    "                df[cols[i]] = df[cols[i]].astype('category')\n",
    "\n",
    "    return df  "
   ]
  },
  {
   "cell_type": "code",
   "execution_count": null,
   "metadata": {
    "colab": {},
    "colab_type": "code",
    "id": "yufQ8mAflL46"
   },
   "outputs": [],
   "source": [
    "sales = downcast(sales)\n",
    "cal = downcast(cal)\n",
    "price = downcast(price)"
   ]
  },
  {
   "cell_type": "code",
   "execution_count": null,
   "metadata": {
    "colab": {},
    "colab_type": "code",
    "id": "jKxhJyp7ZOo4"
   },
   "outputs": [],
   "source": [
    "for day in range(1942,1970):\n",
    "  sales['d_' + str(day)] = 0\n",
    "  sales['d_' + str(day)] = sales['d_' + str(day)].astype(np.int16)"
   ]
  },
  {
   "cell_type": "code",
   "execution_count": null,
   "metadata": {
    "colab": {},
    "colab_type": "code",
    "id": "7giXtw47mdyF"
   },
   "outputs": [],
   "source": [
    "df_melt = pd.melt(sales, id_vars=[a for a in sales.columns if a.find(\"id\")!=-1],\n",
    "                           value_vars=[a for a in sales.columns if a.find(\"d_\")==0], var_name='d', value_name='sales')"
   ]
  },
  {
   "cell_type": "code",
   "execution_count": null,
   "metadata": {
    "colab": {},
    "colab_type": "code",
    "id": "7tTQR1Rn0jbV"
   },
   "outputs": [],
   "source": [
    "df_melt = pd.merge(df_melt, cal, on='d', how='left')\n",
    "df_melt = pd.merge(df_melt, price, on=['store_id','item_id','wm_yr_wk'], how='left')"
   ]
  },
  {
   "cell_type": "code",
   "execution_count": null,
   "metadata": {
    "colab": {},
    "colab_type": "code",
    "id": "aiR2KSqq2HtM"
   },
   "outputs": [],
   "source": [
    "df_melt[\"sell_price\"].fillna(df_melt.groupby(\"id\")[\"sell_price\"].transform(\"mean\"), inplace=True)"
   ]
  },
  {
   "cell_type": "code",
   "execution_count": null,
   "metadata": {
    "colab": {},
    "colab_type": "code",
    "id": "6qK2O2OUpmlI"
   },
   "outputs": [],
   "source": [
    "df_melt.drop(columns=[\"date\",\"weekday\"], inplace=True)\n",
    "df_melt['d'] = df_melt['d'].apply(lambda a: a.split('_')[1]).astype(np.int16)"
   ]
  },
  {
   "cell_type": "markdown",
   "metadata": {
    "colab_type": "text",
    "id": "LcTHGSYP29uP"
   },
   "source": [
    "**features engineering**"
   ]
  },
  {
   "cell_type": "code",
   "execution_count": null,
   "metadata": {
    "colab": {},
    "colab_type": "code",
    "id": "MX06dYtPpmrq"
   },
   "outputs": [],
   "source": [
    "#label encoding features\n",
    "\n",
    "columns = list(df_melt.columns)\n",
    "d_types = list(df_melt.dtypes.values)\n",
    "\n",
    "for a, d_t in enumerate(d_types):\n",
    "  if d_t.name == 'category':\n",
    "    df_melt[columns[a]] = df_melt[columns[a]].cat.codes\n",
    "        "
   ]
  },
  {
   "cell_type": "code",
   "execution_count": null,
   "metadata": {
    "colab": {
     "base_uri": "https://localhost:8080/",
     "height": 35
    },
    "colab_type": "code",
    "executionInfo": {
     "elapsed": 187082,
     "status": "ok",
     "timestamp": 1600544619832,
     "user": {
      "displayName": "Lokesh gupta",
      "photoUrl": "https://lh3.googleusercontent.com/a-/AOh14GjgepOBUJNK5O4L3S_yCfIoggqUXSSiWvkPozefEA=s64",
      "userId": "01478317668303379605"
     },
     "user_tz": -330
    },
    "id": "o6v94fK26EvP",
    "outputId": "3d6204a7-3815-4e6e-f02c-3240e4fac624"
   },
   "outputs": [
    {
     "name": "stderr",
     "output_type": "stream",
     "text": [
      "100%|██████████| 8/8 [00:26<00:00,  3.36s/it]\n"
     ]
    }
   ],
   "source": [
    "#lag features\n",
    "\n",
    "lags = [28, 35, 42, 49, 56, 63, 70, 77]\n",
    "for lag in tqdm(lags):\n",
    "  df_melt[\"lag_\" + str(lag)] = df_melt.groupby(\"id\")[\"sales\"].shift(lag).astype(np.float16)"
   ]
  },
  {
   "cell_type": "code",
   "execution_count": null,
   "metadata": {
    "colab": {},
    "colab_type": "code",
    "id": "uqbVrPOsUT5t"
   },
   "outputs": [],
   "source": [
    "#rolling median features\n",
    "\n",
    "df_melt['lag_28'] = df_melt.groupby('id')['sales'].transform(lambda x: x.shift(28))\n",
    "\n",
    "df_melt['rolling_median_7'] = df_melt.groupby('id')['lag_28'].transform(lambda x: x.rolling(7).median())\n",
    "df_melt['rolling_median_28'] = df_melt.groupby('id')['lag_28'].transform(lambda x: x.rolling(28).median())\n",
    "df_melt['rolling_median_50'] = df_melt.groupby('id')['lag_28'].transform(lambda x: x.rolling(50).median())"
   ]
  },
  {
   "cell_type": "code",
   "execution_count": null,
   "metadata": {
    "colab": {
     "base_uri": "https://localhost:8080/",
     "height": 218
    },
    "colab_type": "code",
    "executionInfo": {
     "elapsed": 386970,
     "status": "ok",
     "timestamp": 1600544824875,
     "user": {
      "displayName": "Lokesh gupta",
      "photoUrl": "https://lh3.googleusercontent.com/a-/AOh14GjgepOBUJNK5O4L3S_yCfIoggqUXSSiWvkPozefEA=s64",
      "userId": "01478317668303379605"
     },
     "user_tz": -330
    },
    "id": "gnOuoP46tmBe",
    "outputId": "b8f92edb-25a8-42f9-ab8e-feb34bc3c866"
   },
   "outputs": [
    {
     "data": {
      "text/html": [
       "<div>\n",
       "<style scoped>\n",
       "    .dataframe tbody tr th:only-of-type {\n",
       "        vertical-align: middle;\n",
       "    }\n",
       "\n",
       "    .dataframe tbody tr th {\n",
       "        vertical-align: top;\n",
       "    }\n",
       "\n",
       "    .dataframe thead th {\n",
       "        text-align: right;\n",
       "    }\n",
       "</style>\n",
       "<table border=\"1\" class=\"dataframe\">\n",
       "  <thead>\n",
       "    <tr style=\"text-align: right;\">\n",
       "      <th></th>\n",
       "      <th>id</th>\n",
       "      <th>item_id</th>\n",
       "      <th>dept_id</th>\n",
       "      <th>cat_id</th>\n",
       "      <th>store_id</th>\n",
       "      <th>state_id</th>\n",
       "      <th>d</th>\n",
       "      <th>sales</th>\n",
       "      <th>wm_yr_wk</th>\n",
       "      <th>wday</th>\n",
       "      <th>month</th>\n",
       "      <th>year</th>\n",
       "      <th>event_name_1</th>\n",
       "      <th>event_type_1</th>\n",
       "      <th>event_name_2</th>\n",
       "      <th>event_type_2</th>\n",
       "      <th>snap_CA</th>\n",
       "      <th>snap_TX</th>\n",
       "      <th>snap_WI</th>\n",
       "      <th>sell_price</th>\n",
       "      <th>lag_28</th>\n",
       "      <th>lag_35</th>\n",
       "      <th>lag_42</th>\n",
       "      <th>lag_49</th>\n",
       "      <th>lag_56</th>\n",
       "      <th>lag_63</th>\n",
       "      <th>lag_70</th>\n",
       "      <th>lag_77</th>\n",
       "      <th>rolling_median_7</th>\n",
       "      <th>rolling_median_28</th>\n",
       "      <th>rolling_median_50</th>\n",
       "    </tr>\n",
       "  </thead>\n",
       "  <tbody>\n",
       "    <tr>\n",
       "      <th>32014500</th>\n",
       "      <td>14370</td>\n",
       "      <td>1437</td>\n",
       "      <td>3</td>\n",
       "      <td>1</td>\n",
       "      <td>0</td>\n",
       "      <td>0</td>\n",
       "      <td>1051</td>\n",
       "      <td>0</td>\n",
       "      <td>11347</td>\n",
       "      <td>1</td>\n",
       "      <td>12</td>\n",
       "      <td>2013</td>\n",
       "      <td>-1</td>\n",
       "      <td>-1</td>\n",
       "      <td>-1</td>\n",
       "      <td>-1</td>\n",
       "      <td>0</td>\n",
       "      <td>0</td>\n",
       "      <td>1</td>\n",
       "      <td>8.257812</td>\n",
       "      <td>0.0</td>\n",
       "      <td>0.0</td>\n",
       "      <td>1.0</td>\n",
       "      <td>2.0</td>\n",
       "      <td>1.0</td>\n",
       "      <td>1.0</td>\n",
       "      <td>0.0</td>\n",
       "      <td>0.0</td>\n",
       "      <td>1.0</td>\n",
       "      <td>0.5</td>\n",
       "      <td>0.0</td>\n",
       "    </tr>\n",
       "    <tr>\n",
       "      <th>32014501</th>\n",
       "      <td>14380</td>\n",
       "      <td>1438</td>\n",
       "      <td>3</td>\n",
       "      <td>1</td>\n",
       "      <td>0</td>\n",
       "      <td>0</td>\n",
       "      <td>1051</td>\n",
       "      <td>2</td>\n",
       "      <td>11347</td>\n",
       "      <td>1</td>\n",
       "      <td>12</td>\n",
       "      <td>2013</td>\n",
       "      <td>-1</td>\n",
       "      <td>-1</td>\n",
       "      <td>-1</td>\n",
       "      <td>-1</td>\n",
       "      <td>0</td>\n",
       "      <td>0</td>\n",
       "      <td>1</td>\n",
       "      <td>3.970703</td>\n",
       "      <td>0.0</td>\n",
       "      <td>0.0</td>\n",
       "      <td>1.0</td>\n",
       "      <td>1.0</td>\n",
       "      <td>0.0</td>\n",
       "      <td>0.0</td>\n",
       "      <td>0.0</td>\n",
       "      <td>0.0</td>\n",
       "      <td>0.0</td>\n",
       "      <td>0.0</td>\n",
       "      <td>0.0</td>\n",
       "    </tr>\n",
       "    <tr>\n",
       "      <th>32014502</th>\n",
       "      <td>14390</td>\n",
       "      <td>1439</td>\n",
       "      <td>3</td>\n",
       "      <td>1</td>\n",
       "      <td>0</td>\n",
       "      <td>0</td>\n",
       "      <td>1051</td>\n",
       "      <td>0</td>\n",
       "      <td>11347</td>\n",
       "      <td>1</td>\n",
       "      <td>12</td>\n",
       "      <td>2013</td>\n",
       "      <td>-1</td>\n",
       "      <td>-1</td>\n",
       "      <td>-1</td>\n",
       "      <td>-1</td>\n",
       "      <td>0</td>\n",
       "      <td>0</td>\n",
       "      <td>1</td>\n",
       "      <td>2.970703</td>\n",
       "      <td>0.0</td>\n",
       "      <td>0.0</td>\n",
       "      <td>0.0</td>\n",
       "      <td>0.0</td>\n",
       "      <td>0.0</td>\n",
       "      <td>0.0</td>\n",
       "      <td>0.0</td>\n",
       "      <td>0.0</td>\n",
       "      <td>0.0</td>\n",
       "      <td>0.0</td>\n",
       "      <td>0.0</td>\n",
       "    </tr>\n",
       "    <tr>\n",
       "      <th>32014503</th>\n",
       "      <td>14400</td>\n",
       "      <td>1440</td>\n",
       "      <td>3</td>\n",
       "      <td>1</td>\n",
       "      <td>0</td>\n",
       "      <td>0</td>\n",
       "      <td>1051</td>\n",
       "      <td>1</td>\n",
       "      <td>11347</td>\n",
       "      <td>1</td>\n",
       "      <td>12</td>\n",
       "      <td>2013</td>\n",
       "      <td>-1</td>\n",
       "      <td>-1</td>\n",
       "      <td>-1</td>\n",
       "      <td>-1</td>\n",
       "      <td>0</td>\n",
       "      <td>0</td>\n",
       "      <td>1</td>\n",
       "      <td>4.640625</td>\n",
       "      <td>2.0</td>\n",
       "      <td>3.0</td>\n",
       "      <td>5.0</td>\n",
       "      <td>8.0</td>\n",
       "      <td>1.0</td>\n",
       "      <td>3.0</td>\n",
       "      <td>5.0</td>\n",
       "      <td>2.0</td>\n",
       "      <td>1.0</td>\n",
       "      <td>2.0</td>\n",
       "      <td>2.0</td>\n",
       "    </tr>\n",
       "    <tr>\n",
       "      <th>32014504</th>\n",
       "      <td>14410</td>\n",
       "      <td>1441</td>\n",
       "      <td>3</td>\n",
       "      <td>1</td>\n",
       "      <td>0</td>\n",
       "      <td>0</td>\n",
       "      <td>1051</td>\n",
       "      <td>3</td>\n",
       "      <td>11347</td>\n",
       "      <td>1</td>\n",
       "      <td>12</td>\n",
       "      <td>2013</td>\n",
       "      <td>-1</td>\n",
       "      <td>-1</td>\n",
       "      <td>-1</td>\n",
       "      <td>-1</td>\n",
       "      <td>0</td>\n",
       "      <td>0</td>\n",
       "      <td>1</td>\n",
       "      <td>3.080078</td>\n",
       "      <td>0.0</td>\n",
       "      <td>1.0</td>\n",
       "      <td>3.0</td>\n",
       "      <td>1.0</td>\n",
       "      <td>4.0</td>\n",
       "      <td>3.0</td>\n",
       "      <td>1.0</td>\n",
       "      <td>1.0</td>\n",
       "      <td>0.0</td>\n",
       "      <td>0.0</td>\n",
       "      <td>1.0</td>\n",
       "    </tr>\n",
       "  </tbody>\n",
       "</table>\n",
       "</div>"
      ],
      "text/plain": [
       "             id  item_id  ...  rolling_median_28  rolling_median_50\n",
       "32014500  14370     1437  ...                0.5                0.0\n",
       "32014501  14380     1438  ...                0.0                0.0\n",
       "32014502  14390     1439  ...                0.0                0.0\n",
       "32014503  14400     1440  ...                2.0                2.0\n",
       "32014504  14410     1441  ...                0.0                1.0\n",
       "\n",
       "[5 rows x 31 columns]"
      ]
     },
     "execution_count": 29,
     "metadata": {
      "tags": []
     },
     "output_type": "execute_result"
    }
   ],
   "source": [
    "df_melt = df_melt[df_melt['d']>1050]\n",
    "df_melt.head()"
   ]
  },
  {
   "cell_type": "code",
   "execution_count": null,
   "metadata": {
    "colab": {
     "base_uri": "https://localhost:8080/",
     "height": 599
    },
    "colab_type": "code",
    "executionInfo": {
     "elapsed": 387369,
     "status": "ok",
     "timestamp": 1600544826346,
     "user": {
      "displayName": "Lokesh gupta",
      "photoUrl": "https://lh3.googleusercontent.com/a-/AOh14GjgepOBUJNK5O4L3S_yCfIoggqUXSSiWvkPozefEA=s64",
      "userId": "01478317668303379605"
     },
     "user_tz": -330
    },
    "id": "9HEccxvB3jQd",
    "outputId": "0d960775-c0ba-496c-a522-01f97fb6e35f"
   },
   "outputs": [
    {
     "data": {
      "text/plain": [
       "id                   False\n",
       "item_id              False\n",
       "dept_id              False\n",
       "cat_id               False\n",
       "store_id             False\n",
       "state_id             False\n",
       "d                    False\n",
       "sales                False\n",
       "wm_yr_wk             False\n",
       "wday                 False\n",
       "month                False\n",
       "year                 False\n",
       "event_name_1         False\n",
       "event_type_1         False\n",
       "event_name_2         False\n",
       "event_type_2         False\n",
       "snap_CA              False\n",
       "snap_TX              False\n",
       "snap_WI              False\n",
       "sell_price           False\n",
       "lag_28               False\n",
       "lag_35               False\n",
       "lag_42               False\n",
       "lag_49               False\n",
       "lag_56               False\n",
       "lag_63               False\n",
       "lag_70               False\n",
       "lag_77               False\n",
       "rolling_median_7     False\n",
       "rolling_median_28    False\n",
       "rolling_median_50    False\n",
       "dtype: bool"
      ]
     },
     "execution_count": 30,
     "metadata": {
      "tags": []
     },
     "output_type": "execute_result"
    }
   ],
   "source": [
    "df_melt.isnull().any()"
   ]
  },
  {
   "cell_type": "code",
   "execution_count": null,
   "metadata": {
    "colab": {},
    "colab_type": "code",
    "id": "79Pv-0CKM-XV"
   },
   "outputs": [],
   "source": [
    "df_melt.to_pickle(\"df_melt\")"
   ]
  },
  {
   "cell_type": "code",
   "execution_count": null,
   "metadata": {
    "colab": {},
    "colab_type": "code",
    "id": "1zn75MauM_OC"
   },
   "outputs": [],
   "source": [
    "df_melt=pd.read_pickle(\"df_melt\")"
   ]
  },
  {
   "cell_type": "code",
   "execution_count": 4,
   "metadata": {
    "colab": {},
    "colab_type": "code",
    "executionInfo": {
     "elapsed": 34218,
     "status": "ok",
     "timestamp": 1600549963943,
     "user": {
      "displayName": "Lokesh Gupta",
      "photoUrl": "https://lh3.googleusercontent.com/a-/AOh14Gji9BLG_yBHzfpNsVF1-hq2O8seojfrBmtSDr9g=s64",
      "userId": "00605890011976979562"
     },
     "user_tz": -330
    },
    "id": "7ithLg8TL1lu"
   },
   "outputs": [],
   "source": [
    "df_melt = pd.read_pickle(\"/content/drive/My Drive/M5 Forcasting/df_melt\")"
   ]
  },
  {
   "cell_type": "code",
   "execution_count": 5,
   "metadata": {
    "colab": {
     "base_uri": "https://localhost:8080/",
     "height": 35
    },
    "colab_type": "code",
    "executionInfo": {
     "elapsed": 32400,
     "status": "ok",
     "timestamp": 1600549963948,
     "user": {
      "displayName": "Lokesh Gupta",
      "photoUrl": "https://lh3.googleusercontent.com/a-/AOh14Gji9BLG_yBHzfpNsVF1-hq2O8seojfrBmtSDr9g=s64",
      "userId": "00605890011976979562"
     },
     "user_tz": -330
    },
    "id": "x7mPZGkp3gEy",
    "outputId": "125d253c-c6af-48a1-a82f-9344a81d5c87"
   },
   "outputs": [
    {
     "data": {
      "text/plain": [
       "(28020310, 31)"
      ]
     },
     "execution_count": 5,
     "metadata": {
      "tags": []
     },
     "output_type": "execute_result"
    }
   ],
   "source": [
    "df_melt.shape"
   ]
  },
  {
   "cell_type": "markdown",
   "metadata": {
    "colab_type": "text",
    "id": "bjqAJtd33vMP"
   },
   "source": [
    "**train-test split**"
   ]
  },
  {
   "cell_type": "code",
   "execution_count": 7,
   "metadata": {
    "colab": {},
    "colab_type": "code",
    "executionInfo": {
     "elapsed": 6867,
     "status": "ok",
     "timestamp": 1600549990425,
     "user": {
      "displayName": "Lokesh Gupta",
      "photoUrl": "https://lh3.googleusercontent.com/a-/AOh14Gji9BLG_yBHzfpNsVF1-hq2O8seojfrBmtSDr9g=s64",
      "userId": "00605890011976979562"
     },
     "user_tz": -330
    },
    "id": "idDKRRUZNftJ"
   },
   "outputs": [],
   "source": [
    "X_train = df_melt[df_melt[\"d\"] < 1914].drop(\"sales\", axis=1)\n",
    "X_val =  df_melt[(df_melt['d']>=1914) & (df_melt['d']<=1941)].drop('sales',axis=1)\n",
    "X_test = df_melt[df_melt[\"d\"] >= 1942].drop(\"sales\", axis=1)\n",
    "\n",
    "y_train = df_melt[df_melt[\"d\"] < 1914][\"sales\"]\n",
    "y_val = df_melt[(df_melt['d']>=1914) & (df_melt['d']<=1941)][\"sales\"]"
   ]
  },
  {
   "cell_type": "code",
   "execution_count": 8,
   "metadata": {
    "colab": {
     "base_uri": "https://localhost:8080/",
     "height": 35
    },
    "colab_type": "code",
    "executionInfo": {
     "elapsed": 976,
     "status": "ok",
     "timestamp": 1600549994248,
     "user": {
      "displayName": "Lokesh Gupta",
      "photoUrl": "https://lh3.googleusercontent.com/a-/AOh14Gji9BLG_yBHzfpNsVF1-hq2O8seojfrBmtSDr9g=s64",
      "userId": "00605890011976979562"
     },
     "user_tz": -330
    },
    "id": "mIQsRiBtNSuW",
    "outputId": "b5630566-e682-4ea6-9cd0-2ba634106742"
   },
   "outputs": [
    {
     "data": {
      "text/plain": [
       "(26312870, 30)"
      ]
     },
     "execution_count": 8,
     "metadata": {
      "tags": []
     },
     "output_type": "execute_result"
    }
   ],
   "source": [
    "X_train.shape"
   ]
  },
  {
   "cell_type": "code",
   "execution_count": 9,
   "metadata": {
    "colab": {
     "base_uri": "https://localhost:8080/",
     "height": 35
    },
    "colab_type": "code",
    "executionInfo": {
     "elapsed": 1020,
     "status": "ok",
     "timestamp": 1600549996857,
     "user": {
      "displayName": "Lokesh Gupta",
      "photoUrl": "https://lh3.googleusercontent.com/a-/AOh14Gji9BLG_yBHzfpNsVF1-hq2O8seojfrBmtSDr9g=s64",
      "userId": "00605890011976979562"
     },
     "user_tz": -330
    },
    "id": "Q8l91PfWns5f",
    "outputId": "689e9852-4711-4775-f7e6-e74f0a3de7ae"
   },
   "outputs": [
    {
     "data": {
      "text/plain": [
       "(853720, 30)"
      ]
     },
     "execution_count": 9,
     "metadata": {
      "tags": []
     },
     "output_type": "execute_result"
    }
   ],
   "source": [
    "X_val.shape"
   ]
  },
  {
   "cell_type": "markdown",
   "metadata": {
    "colab_type": "text",
    "id": "zARPtUMd391j"
   },
   "source": [
    "compute the weights for level 12 series"
   ]
  },
  {
   "cell_type": "code",
   "execution_count": 10,
   "metadata": {
    "colab": {},
    "colab_type": "code",
    "executionInfo": {
     "elapsed": 3252,
     "status": "ok",
     "timestamp": 1600550002704,
     "user": {
      "displayName": "Lokesh Gupta",
      "photoUrl": "https://lh3.googleusercontent.com/a-/AOh14Gji9BLG_yBHzfpNsVF1-hq2O8seojfrBmtSDr9g=s64",
      "userId": "00605890011976979562"
     },
     "user_tz": -330
    },
    "id": "QU0P5bzmnjD3"
   },
   "outputs": [],
   "source": [
    "price[\"id\"] = price[\"item_id\"] + \"_\" + price[\"store_id\"] + \"_evaluation\"\n",
    "cal[\"d\"] = cal[\"d\"].apply(lambda a: int(a.split(\"_\")[1]))"
   ]
  },
  {
   "cell_type": "code",
   "execution_count": 11,
   "metadata": {
    "colab": {
     "base_uri": "https://localhost:8080/",
     "height": 35
    },
    "colab_type": "code",
    "executionInfo": {
     "elapsed": 10767,
     "status": "ok",
     "timestamp": 1600550013497,
     "user": {
      "displayName": "Lokesh Gupta",
      "photoUrl": "https://lh3.googleusercontent.com/a-/AOh14Gji9BLG_yBHzfpNsVF1-hq2O8seojfrBmtSDr9g=s64",
      "userId": "00605890011976979562"
     },
     "user_tz": -330
    },
    "id": "8-L15PmfNfoE",
    "outputId": "8fbb9f11-8f8b-4d4a-fc08-8d3143cc5f4a"
   },
   "outputs": [
    {
     "name": "stderr",
     "output_type": "stream",
     "text": [
      "100%|██████████| 28/28 [00:09<00:00,  2.98it/s]\n"
     ]
    }
   ],
   "source": [
    "#https://www.kaggle.com/qcw171717/other-naive-forecasts-submission-score/notebook\n",
    "\n",
    "for day in tqdm(range(1886, 1914)):  \n",
    "    wk_id = list(cal[cal[\"d\"]==day][\"wm_yr_wk\"])[0]\n",
    "    wk_price = price[price[\"wm_yr_wk\"]==wk_id]\n",
    "    df_sales = sales.merge(wk_price[[\"sell_price\", \"id\"]], on=[\"id\"], how='inner')\n",
    "    df_sales[\"unit_sales_\" + str(day)] = df_sales[\"sell_price\"] * df_sales[\"d_\" + str(day)]\n",
    "    df_sales.drop(columns=[\"sell_price\"], inplace=True)"
   ]
  },
  {
   "cell_type": "code",
   "execution_count": 12,
   "metadata": {
    "colab": {},
    "colab_type": "code",
    "executionInfo": {
     "elapsed": 1503,
     "status": "ok",
     "timestamp": 1600550015006,
     "user": {
      "displayName": "Lokesh Gupta",
      "photoUrl": "https://lh3.googleusercontent.com/a-/AOh14Gji9BLG_yBHzfpNsVF1-hq2O8seojfrBmtSDr9g=s64",
      "userId": "00605890011976979562"
     },
     "user_tz": -330
    },
    "id": "hhzhRjmpNfwl"
   },
   "outputs": [],
   "source": [
    "col = [a for a in df_sales.columns if a.find(\"unit_sales\")==0]\n",
    "df_sales[\"sales\"] = df_sales[col]\n",
    "df_sales[\"weight\"] = df_sales[\"sales\"] / df_sales[\"sales\"].sum()\n",
    "df_sales.drop(columns=[\"sales\", col[0]], axis=1, inplace=True)\n",
    "df_sales[\"weight\"] /= 12"
   ]
  },
  {
   "cell_type": "code",
   "execution_count": 13,
   "metadata": {
    "colab": {},
    "colab_type": "code",
    "executionInfo": {
     "elapsed": 1501,
     "status": "ok",
     "timestamp": 1600550015012,
     "user": {
      "displayName": "Lokesh Gupta",
      "photoUrl": "https://lh3.googleusercontent.com/a-/AOh14Gji9BLG_yBHzfpNsVF1-hq2O8seojfrBmtSDr9g=s64",
      "userId": "00605890011976979562"
     },
     "user_tz": -330
    },
    "id": "5H2omGBypKOC"
   },
   "outputs": [],
   "source": [
    "aggregation_level = {2: [\"state_id\"], 3: [\"store_id\"], 4: [\"cat_id\"], 5: [\"dept_id\"], \n",
    "              6: [\"state_id\", \"cat_id\"], 7: [\"state_id\", \"dept_id\"], 8: [\"store_id\", \"cat_id\"], 9: [\"store_id\", \"dept_id\"],\n",
    "              10: [\"item_id\"], 11: [\"item_id\", \"state_id\"]}"
   ]
  },
  {
   "cell_type": "code",
   "execution_count": 14,
   "metadata": {
    "colab": {},
    "colab_type": "code",
    "executionInfo": {
     "elapsed": 1498,
     "status": "ok",
     "timestamp": 1600550015015,
     "user": {
      "displayName": "Lokesh Gupta",
      "photoUrl": "https://lh3.googleusercontent.com/a-/AOh14Gji9BLG_yBHzfpNsVF1-hq2O8seojfrBmtSDr9g=s64",
      "userId": "00605890011976979562"
     },
     "user_tz": -330
    },
    "id": "4klrZhdFpmnm"
   },
   "outputs": [],
   "source": [
    "#function to calculate rmsse \n",
    "\n",
    "h = 28\n",
    "n = 1913\n",
    "\n",
    "def RMSSE(ground_truth, forecast, train_series):\n",
    "    \n",
    "    num = ((ground_truth - forecast)**2).sum(axis=1)\n",
    "    den = 1/(n-1) * ((train_series[:, 1:] - train_series[:, :-1]) ** 2).sum(axis=1)\n",
    "    rmsse = (1/h * num/den) ** 0.5\n",
    "\n",
    "    return rmsse"
   ]
  },
  {
   "cell_type": "code",
   "execution_count": 15,
   "metadata": {
    "colab": {},
    "colab_type": "code",
    "executionInfo": {
     "elapsed": 1493,
     "status": "ok",
     "timestamp": 1600550015016,
     "user": {
      "displayName": "Lokesh Gupta",
      "photoUrl": "https://lh3.googleusercontent.com/a-/AOh14Gji9BLG_yBHzfpNsVF1-hq2O8seojfrBmtSDr9g=s64",
      "userId": "00605890011976979562"
     },
     "user_tz": -330
    },
    "id": "aqv5D5R8OK6Z"
   },
   "outputs": [],
   "source": [
    "# function to compute custom hyperparametrer tuning\n",
    "\n",
    "def hyperparameter_tuning(X_train, y_train, model):\n",
    "\n",
    "    model.fit(X_train, y_train)\n",
    "\n",
    "    for d in range(1914, 1942):\n",
    "        df_sales['F_' + str(d)] = model.predict(X_val[X_val['d']==d])\n",
    "    \n",
    "    data = df_sales[[a for a in df_sales.columns if a.find(\"d_\") == 0 or a.find(\"F_\") == 0]]\n",
    "    data = data.sum()\n",
    "\n",
    "    aggregated_df = pd.DataFrame(data).transpose()    \n",
    "    aggregated_df[\"level\"] = 1\n",
    "    aggregated_df[\"weight\"] = 1/12    \n",
    "    columns = aggregated_df.columns  \n",
    "\n",
    "    for lev in aggregation_level:\n",
    "        df_t = df_sales.groupby(by=aggregation_level[lev]).sum().reset_index()\n",
    "        df_t[\"level\"] = lev\n",
    "        aggregated_df = aggregated_df.append(df_t[columns])     \n",
    "\n",
    "    train_columns = [a for a in df_sales.columns if a.find(\"d_\") == 0 and int(a.split('_')[1]) < 1914]\n",
    "    actual_value_columns = [a for a in df_sales.columns if a.find(\"d_\") == 0 and int(a.split('_')[1]) in range(1914, 1942)]\n",
    "    forecast_value_columns = [a for a in df_sales.columns if a.find(\"F_\") == 0]    \n",
    "\n",
    "    ground_truth_df = np.array(df_sales[actual_value_columns])\n",
    "    forecast_df = np.array(df_sales[forecast_value_columns])\n",
    "    train_series_df = np.array(df_sales[train_columns])\n",
    "\n",
    "    ground_truth_agg_df = np.array(aggregated_df[actual_value_columns])\n",
    "    forecast_agg_df = np.array(aggregated_df[forecast_value_columns])\n",
    "    train_series_agg_df = np.array(aggregated_df[train_columns])\n",
    "\n",
    "    df_sales[\"rmsse\"] = RMSSE(ground_truth_df, forecast_df, train_series_df)\n",
    "    aggregated_df[\"rmsse\"] = RMSSE(ground_truth_agg_df, forecast_agg_df, train_series_agg_df)\n",
    "\n",
    "    df_sales[\"wrmsse\"] = df_sales[\"weight\"] * df_sales[\"rmsse\"]\n",
    "    aggregated_df[\"wrmsse\"] = aggregated_df[\"weight\"] * aggregated_df[\"rmsse\"]\n",
    "\n",
    "    print(df_sales[\"wrmsse\"].sum() + aggregated_df[\"wrmsse\"].sum())\n",
    "    \n",
    "    return (df_sales[\"wrmsse\"].sum() + aggregated_df[\"wrmsse\"].sum())"
   ]
  },
  {
   "cell_type": "code",
   "execution_count": null,
   "metadata": {
    "colab": {
     "base_uri": "https://localhost:8080/",
     "height": 1000
    },
    "colab_type": "code",
    "executionInfo": {
     "elapsed": 3121625,
     "status": "ok",
     "timestamp": 1600549057300,
     "user": {
      "displayName": "Lokesh gupta",
      "photoUrl": "https://lh3.googleusercontent.com/a-/AOh14GjgepOBUJNK5O4L3S_yCfIoggqUXSSiWvkPozefEA=s64",
      "userId": "01478317668303379605"
     },
     "user_tz": -330
    },
    "id": "FjSro2CiNflE",
    "outputId": "28be4991-7ada-454b-a915-feae746addbe"
   },
   "outputs": [
    {
     "name": "stderr",
     "output_type": "stream",
     "text": [
      "\n",
      "  0%|          | 0/15 [00:00<?, ?it/s]\u001b[A"
     ]
    },
    {
     "name": "stdout",
     "output_type": "stream",
     "text": [
      "0.03\n",
      "106\n",
      "139\n"
     ]
    },
    {
     "name": "stderr",
     "output_type": "stream",
     "text": [
      "\n",
      "  7%|▋         | 1/15 [03:54<54:37, 234.11s/it]\u001b[A"
     ]
    },
    {
     "name": "stdout",
     "output_type": "stream",
     "text": [
      "0.8616449802156569\n",
      "0.031\n",
      "35\n",
      "70\n"
     ]
    },
    {
     "name": "stderr",
     "output_type": "stream",
     "text": [
      "\n",
      " 13%|█▎        | 2/15 [06:57<47:24, 218.78s/it]\u001b[A"
     ]
    },
    {
     "name": "stdout",
     "output_type": "stream",
     "text": [
      "0.9137737438358748\n",
      "0.068\n",
      "78\n",
      "109\n"
     ]
    },
    {
     "name": "stderr",
     "output_type": "stream",
     "text": [
      "\n",
      " 20%|██        | 3/15 [10:10<42:13, 211.12s/it]\u001b[A"
     ]
    },
    {
     "name": "stdout",
     "output_type": "stream",
     "text": [
      "0.717371937092594\n",
      "0.035\n",
      "63\n",
      "141\n"
     ]
    },
    {
     "name": "stderr",
     "output_type": "stream",
     "text": [
      "\n",
      " 27%|██▋       | 4/15 [13:33<38:16, 208.80s/it]\u001b[A"
     ]
    },
    {
     "name": "stdout",
     "output_type": "stream",
     "text": [
      "0.8460583729572915\n",
      "0.045\n",
      "86\n",
      "60\n"
     ]
    },
    {
     "name": "stderr",
     "output_type": "stream",
     "text": [
      "\n",
      " 33%|███▎      | 5/15 [16:59<34:39, 208.00s/it]\u001b[A"
     ]
    },
    {
     "name": "stdout",
     "output_type": "stream",
     "text": [
      "0.7813279366764813\n",
      "0.071\n",
      "123\n",
      "147\n"
     ]
    },
    {
     "name": "stderr",
     "output_type": "stream",
     "text": [
      "\n",
      " 40%|████      | 6/15 [20:30<31:18, 208.70s/it]\u001b[A"
     ]
    },
    {
     "name": "stdout",
     "output_type": "stream",
     "text": [
      "0.7067169301558276\n",
      "0.075\n",
      "95\n",
      "59\n"
     ]
    },
    {
     "name": "stderr",
     "output_type": "stream",
     "text": [
      "\n",
      " 47%|████▋     | 7/15 [23:42<27:10, 203.83s/it]\u001b[A"
     ]
    },
    {
     "name": "stdout",
     "output_type": "stream",
     "text": [
      "0.7116286218121783\n",
      "0.025\n",
      "110\n",
      "124\n"
     ]
    },
    {
     "name": "stderr",
     "output_type": "stream",
     "text": [
      "\n",
      " 53%|█████▎    | 8/15 [27:40<24:58, 214.11s/it]\u001b[A"
     ]
    },
    {
     "name": "stdout",
     "output_type": "stream",
     "text": [
      "0.9194683079155135\n",
      "0.051\n",
      "71\n",
      "77\n"
     ]
    },
    {
     "name": "stderr",
     "output_type": "stream",
     "text": [
      "\n",
      " 60%|██████    | 9/15 [30:57<20:53, 208.95s/it]\u001b[A"
     ]
    },
    {
     "name": "stdout",
     "output_type": "stream",
     "text": [
      "0.7640327690552523\n",
      "0.03\n",
      "88\n",
      "137\n"
     ]
    },
    {
     "name": "stderr",
     "output_type": "stream",
     "text": [
      "\n",
      " 67%|██████▋   | 10/15 [34:39<17:44, 212.95s/it]\u001b[A"
     ]
    },
    {
     "name": "stdout",
     "output_type": "stream",
     "text": [
      "0.8722651953749397\n",
      "0.064\n",
      "71\n",
      "127\n"
     ]
    },
    {
     "name": "stderr",
     "output_type": "stream",
     "text": [
      "\n",
      " 73%|███████▎  | 11/15 [37:53<13:48, 207.17s/it]\u001b[A"
     ]
    },
    {
     "name": "stdout",
     "output_type": "stream",
     "text": [
      "0.72746246445814\n",
      "0.069\n",
      "94\n",
      "62\n"
     ]
    },
    {
     "name": "stderr",
     "output_type": "stream",
     "text": [
      "\n",
      " 80%|████████  | 12/15 [41:12<10:13, 204.54s/it]\u001b[A"
     ]
    },
    {
     "name": "stdout",
     "output_type": "stream",
     "text": [
      "0.7167816797727539\n",
      "0.039\n",
      "101\n",
      "127\n"
     ]
    },
    {
     "name": "stderr",
     "output_type": "stream",
     "text": [
      "\n",
      " 87%|████████▋ | 13/15 [44:53<06:59, 209.52s/it]\u001b[A"
     ]
    },
    {
     "name": "stdout",
     "output_type": "stream",
     "text": [
      "0.7983751072002795\n",
      "0.025\n",
      "116\n",
      "117\n"
     ]
    },
    {
     "name": "stderr",
     "output_type": "stream",
     "text": [
      "\n",
      " 93%|█████████▎| 14/15 [48:53<03:38, 218.68s/it]\u001b[A"
     ]
    },
    {
     "name": "stdout",
     "output_type": "stream",
     "text": [
      "0.9138323060393725\n",
      "0.073\n",
      "64\n",
      "119\n"
     ]
    },
    {
     "name": "stderr",
     "output_type": "stream",
     "text": [
      "\n",
      "100%|██████████| 15/15 [52:00<00:00, 208.01s/it]"
     ]
    },
    {
     "name": "stdout",
     "output_type": "stream",
     "text": [
      "0.7140471507273172\n",
      "CPU times: user 3h 21s, sys: 1min 46s, total: 3h 2min 7s\n",
      "Wall time: 52min\n"
     ]
    },
    {
     "name": "stderr",
     "output_type": "stream",
     "text": [
      "\n"
     ]
    }
   ],
   "source": [
    "%%time\n",
    "\n",
    "wrmsse=[]\n",
    "lr=[]\n",
    "n_leaves=[]\n",
    "min_d_leaf=[]\n",
    "\n",
    "for _ in tqdm(range(15)):\n",
    "\n",
    "    learning_rate = random.randint(25, 75)/1000\n",
    "    num_leaves = random.randint(32, 128)\n",
    "    min_data_in_leaf = random.randint(50, 150)\n",
    "\n",
    "    print(learning_rate)\n",
    "    print(num_leaves)\n",
    "    print(min_data_in_leaf)\n",
    "    \n",
    "    model = lgb.LGBMRegressor(learning_rate= learning_rate,num_leaves=num_leaves,min_data_in_leaf=min_data_in_leaf)\n",
    "    \n",
    "    WRMSSE = hyperparameter_tuning(X_train, y_train, model)\n",
    "\n",
    "    wrmsse.append(WRMSSE)\n",
    "    lr.append(learning_rate)\n",
    "    n_leaves.append(num_leaves)\n",
    "    min_d_leaf.append(min_data_in_leaf)\n",
    "   "
   ]
  },
  {
   "cell_type": "code",
   "execution_count": null,
   "metadata": {
    "colab": {},
    "colab_type": "code",
    "id": "8DCGX-8R88na"
   },
   "outputs": [],
   "source": [
    "minpos = wrmsse.index(min(wrmsse))\n",
    "learning_rate = lr[minpos]\n",
    "num_leaves = n_leaves[minpos]\n",
    "min_data_in_leaf = min_d_leaf[minpos]"
   ]
  },
  {
   "cell_type": "code",
   "execution_count": 27,
   "metadata": {
    "colab": {},
    "colab_type": "code",
    "executionInfo": {
     "elapsed": 1242,
     "status": "ok",
     "timestamp": 1600550764594,
     "user": {
      "displayName": "Lokesh Gupta",
      "photoUrl": "https://lh3.googleusercontent.com/a-/AOh14Gji9BLG_yBHzfpNsVF1-hq2O8seojfrBmtSDr9g=s64",
      "userId": "00605890011976979562"
     },
     "user_tz": -330
    },
    "id": "xHWmdV4xMRb_"
   },
   "outputs": [],
   "source": [
    "learning_rate = 0.071\n",
    "num_leaves = 123\n",
    "min_data_in_leaf = 147"
   ]
  },
  {
   "cell_type": "code",
   "execution_count": 28,
   "metadata": {
    "colab": {
     "base_uri": "https://localhost:8080/",
     "height": 145
    },
    "colab_type": "code",
    "executionInfo": {
     "elapsed": 233585,
     "status": "ok",
     "timestamp": 1600550998061,
     "user": {
      "displayName": "Lokesh Gupta",
      "photoUrl": "https://lh3.googleusercontent.com/a-/AOh14Gji9BLG_yBHzfpNsVF1-hq2O8seojfrBmtSDr9g=s64",
      "userId": "00605890011976979562"
     },
     "user_tz": -330
    },
    "id": "785grHDH8_Xl",
    "outputId": "19951dc2-55f4-45cf-9771-4f33a79986a3"
   },
   "outputs": [
    {
     "data": {
      "text/plain": [
       "LGBMRegressor(boosting_type='gbdt', class_weight=None, colsample_bytree=1.0,\n",
       "              importance_type='split', learning_rate=0.071, max_depth=-1,\n",
       "              min_child_samples=20, min_child_weight=0.001,\n",
       "              min_data_in_leaf=147, min_split_gain=0.0, n_estimators=100,\n",
       "              n_jobs=-1, num_leaves=123, objective=None, random_state=None,\n",
       "              reg_alpha=0.0, reg_lambda=0.0, silent=True, subsample=1.0,\n",
       "              subsample_for_bin=200000, subsample_freq=0)"
      ]
     },
     "execution_count": 28,
     "metadata": {
      "tags": []
     },
     "output_type": "execute_result"
    }
   ],
   "source": [
    "#fit the model on best parameters\n",
    "\n",
    "m_lgb = lgb.LGBMRegressor( learning_rate=learning_rate ,\n",
    "                           num_leaves=num_leaves ,\n",
    "                           min_data_in_leaf=min_data_in_leaf)\n",
    "\n",
    "m_lgb.fit(X_train, y_train)"
   ]
  },
  {
   "cell_type": "code",
   "execution_count": 29,
   "metadata": {
    "colab": {},
    "colab_type": "code",
    "executionInfo": {
     "elapsed": 3771,
     "status": "ok",
     "timestamp": 1600551010622,
     "user": {
      "displayName": "Lokesh Gupta",
      "photoUrl": "https://lh3.googleusercontent.com/a-/AOh14Gji9BLG_yBHzfpNsVF1-hq2O8seojfrBmtSDr9g=s64",
      "userId": "00605890011976979562"
     },
     "user_tz": -330
    },
    "id": "V6lsM2F-GTRC"
   },
   "outputs": [],
   "source": [
    "#predict the validation data\n",
    "\n",
    "for d in range(1914, 1942):\n",
    "    df_sales['F_' + str(d)] = m_lgb.predict(X_val[X_val['d']==d])"
   ]
  },
  {
   "cell_type": "code",
   "execution_count": 30,
   "metadata": {
    "colab": {},
    "colab_type": "code",
    "executionInfo": {
     "elapsed": 1074,
     "status": "ok",
     "timestamp": 1600551011722,
     "user": {
      "displayName": "Lokesh Gupta",
      "photoUrl": "https://lh3.googleusercontent.com/a-/AOh14Gji9BLG_yBHzfpNsVF1-hq2O8seojfrBmtSDr9g=s64",
      "userId": "00605890011976979562"
     },
     "user_tz": -330
    },
    "id": "cmQPADigG_V1"
   },
   "outputs": [],
   "source": [
    "def WRMSSE(df_sales):\n",
    "\n",
    "  aggregation_level = {2: [\"state_id\"], 3: [\"store_id\"], 4: [\"cat_id\"], 5: [\"dept_id\"], \n",
    "              6: [\"state_id\", \"cat_id\"], 7: [\"state_id\", \"dept_id\"], 8: [\"store_id\", \"cat_id\"], 9: [\"store_id\", \"dept_id\"],\n",
    "              10: [\"item_id\"], 11: [\"item_id\", \"state_id\"]}\n",
    "\n",
    "  data = df_sales[[a for a in df_sales.columns if a.find(\"d_\") == 0 or a.find(\"F_\") == 0]]\n",
    "  data = data.sum()\n",
    "\n",
    "  aggregated_df = pd.DataFrame(data).transpose()    \n",
    "  aggregated_df[\"level\"] = 1\n",
    "  aggregated_df[\"weight\"] = 1/12    \n",
    "  columns = aggregated_df.columns  \n",
    "\n",
    "  for lev in aggregation_level:\n",
    "      df_t = df_sales.groupby(by=aggregation_level[lev]).sum().reset_index()\n",
    "      df_t[\"level\"] = lev\n",
    "      aggregated_df = aggregated_df.append(df_t[columns])     \n",
    "\n",
    "  #print(df_sales.shape[0], aggregated_df.shape[0], df_sales.shape[0] + aggregated_df.shape[0])\n",
    "  #print(aggregated_df[\"weight\"].sum() + df_sales[\"weight\"].sum())    \n",
    "\n",
    "  train_columns = [a for a in df_sales.columns if a.find(\"d_\") == 0 and int(a.split('_')[1]) < 1914]\n",
    "  actual_value_columns = [a for a in df_sales.columns if a.find(\"d_\") == 0 and int(a.split('_')[1]) in range(1914, 1942)]\n",
    "  forecast_value_columns = [a for a in df_sales.columns if a.find(\"F_\") == 0]    \n",
    "\n",
    "\n",
    "  ground_truth_df = np.array(df_sales[actual_value_columns])\n",
    "  forecast_df = np.array(df_sales[forecast_value_columns])\n",
    "  train_series_df = np.array(df_sales[train_columns])\n",
    "\n",
    "  ground_truth_agg_df = np.array(aggregated_df[actual_value_columns])\n",
    "  forecast_agg_df = np.array(aggregated_df[forecast_value_columns])\n",
    "  train_series_agg_df = np.array(aggregated_df[train_columns])\n",
    "\n",
    "  df_sales[\"rmsse\"] = RMSSE(ground_truth_df, forecast_df, train_series_df)\n",
    "  aggregated_df[\"rmsse\"] = RMSSE(ground_truth_agg_df, forecast_agg_df, train_series_agg_df)\n",
    "\n",
    "  df_sales[\"wrmsse\"] = df_sales[\"weight\"] * df_sales[\"rmsse\"]\n",
    "  aggregated_df[\"wrmsse\"] = aggregated_df[\"weight\"] * aggregated_df[\"rmsse\"]\n",
    "\n",
    "  print(\"df\", df_sales[\"wrmsse\"].sum())\n",
    "  print(\"agg_df\",aggregated_df[\"wrmsse\"].sum())\n",
    "\n",
    "  WRMSSE = df_sales[\"wrmsse\"].sum() + aggregated_df[\"wrmsse\"].sum()\n",
    "  #print(WRMSSE)\n",
    "\n",
    "  return WRMSSE     "
   ]
  },
  {
   "cell_type": "code",
   "execution_count": 31,
   "metadata": {
    "colab": {
     "base_uri": "https://localhost:8080/",
     "height": 72
    },
    "colab_type": "code",
    "executionInfo": {
     "elapsed": 15697,
     "status": "ok",
     "timestamp": 1600551030310,
     "user": {
      "displayName": "Lokesh Gupta",
      "photoUrl": "https://lh3.googleusercontent.com/a-/AOh14Gji9BLG_yBHzfpNsVF1-hq2O8seojfrBmtSDr9g=s64",
      "userId": "00605890011976979562"
     },
     "user_tz": -330
    },
    "id": "dp1zK6kNG_io",
    "outputId": "53cf58b0-cdcd-4148-a3f0-c7772eb83316"
   },
   "outputs": [
    {
     "name": "stdout",
     "output_type": "stream",
     "text": [
      "df 0.0871697137234316\n",
      "agg_df 0.619547216432396\n"
     ]
    },
    {
     "data": {
      "text/plain": [
       "0.7067169301558276"
      ]
     },
     "execution_count": 31,
     "metadata": {
      "tags": []
     },
     "output_type": "execute_result"
    }
   ],
   "source": [
    "WRMSSE(df_sales)\n"
   ]
  },
  {
   "cell_type": "markdown",
   "metadata": {
    "colab_type": "text",
    "id": "v7fKvj1E69Rz"
   },
   "source": [
    "**create submission file**"
   ]
  },
  {
   "cell_type": "code",
   "execution_count": 32,
   "metadata": {
    "colab": {
     "base_uri": "https://localhost:8080/",
     "height": 308
    },
    "colab_type": "code",
    "executionInfo": {
     "elapsed": 1213,
     "status": "ok",
     "timestamp": 1600551044762,
     "user": {
      "displayName": "Lokesh Gupta",
      "photoUrl": "https://lh3.googleusercontent.com/a-/AOh14Gji9BLG_yBHzfpNsVF1-hq2O8seojfrBmtSDr9g=s64",
      "userId": "00605890011976979562"
     },
     "user_tz": -330
    },
    "id": "ioD2h-NnCo5r",
    "outputId": "2faa193b-0b23-4aea-aab7-9b7f837cb7dd"
   },
   "outputs": [
    {
     "name": "stderr",
     "output_type": "stream",
     "text": [
      "/usr/local/lib/python3.6/dist-packages/ipykernel_launcher.py:4: SettingWithCopyWarning:\n",
      "\n",
      "\n",
      "A value is trying to be set on a copy of a slice from a DataFrame.\n",
      "Try using .loc[row_indexer,col_indexer] = value instead\n",
      "\n",
      "See the caveats in the documentation: https://pandas.pydata.org/pandas-docs/stable/user_guide/indexing.html#returning-a-view-versus-a-copy\n",
      "\n",
      "/usr/local/lib/python3.6/dist-packages/ipykernel_launcher.py:6: SettingWithCopyWarning:\n",
      "\n",
      "\n",
      "A value is trying to be set on a copy of a slice from a DataFrame.\n",
      "Try using .loc[row_indexer,col_indexer] = value instead\n",
      "\n",
      "See the caveats in the documentation: https://pandas.pydata.org/pandas-docs/stable/user_guide/indexing.html#returning-a-view-versus-a-copy\n",
      "\n"
     ]
    }
   ],
   "source": [
    "submit_df1 = df_sales[[\"id\"]]\n",
    "\n",
    "for d, i in enumerate(range(1914, 1942)):\n",
    "    submit_df1['F' + str(d+1)] = df_sales[\"F_\" + str(i)]\n",
    "\n",
    "submit_df1[\"id\"] = submit_df1[\"id\"].apply(lambda x: x.replace('evaluation', 'validation'))    "
   ]
  },
  {
   "cell_type": "code",
   "execution_count": 34,
   "metadata": {
    "colab": {
     "base_uri": "https://localhost:8080/",
     "height": 163
    },
    "colab_type": "code",
    "executionInfo": {
     "elapsed": 3676,
     "status": "ok",
     "timestamp": 1600551068670,
     "user": {
      "displayName": "Lokesh Gupta",
      "photoUrl": "https://lh3.googleusercontent.com/a-/AOh14Gji9BLG_yBHzfpNsVF1-hq2O8seojfrBmtSDr9g=s64",
      "userId": "00605890011976979562"
     },
     "user_tz": -330
    },
    "id": "lam9XIn6hhaK",
    "outputId": "61842a8d-38e0-4fb2-85d1-8ebf389e4b60"
   },
   "outputs": [
    {
     "name": "stderr",
     "output_type": "stream",
     "text": [
      "/usr/local/lib/python3.6/dist-packages/ipykernel_launcher.py:3: SettingWithCopyWarning:\n",
      "\n",
      "\n",
      "A value is trying to be set on a copy of a slice from a DataFrame.\n",
      "Try using .loc[row_indexer,col_indexer] = value instead\n",
      "\n",
      "See the caveats in the documentation: https://pandas.pydata.org/pandas-docs/stable/user_guide/indexing.html#returning-a-view-versus-a-copy\n",
      "\n"
     ]
    }
   ],
   "source": [
    "submit_df2 = df_sales[[\"id\"]]\n",
    "for d in range(1, 29):\n",
    "    submit_df2['F' + str(d)] = m_lgb.predict(X_test[X_test['d']==(1941+d)])"
   ]
  },
  {
   "cell_type": "code",
   "execution_count": 35,
   "metadata": {
    "colab": {},
    "colab_type": "code",
    "executionInfo": {
     "elapsed": 3986,
     "status": "ok",
     "timestamp": 1600551075800,
     "user": {
      "displayName": "Lokesh Gupta",
      "photoUrl": "https://lh3.googleusercontent.com/a-/AOh14Gji9BLG_yBHzfpNsVF1-hq2O8seojfrBmtSDr9g=s64",
      "userId": "00605890011976979562"
     },
     "user_tz": -330
    },
    "id": "uFZlYhfVdJDg"
   },
   "outputs": [],
   "source": [
    "submit = submit_df1.append(submit_df2).reset_index(drop=True)\n",
    "submit.to_csv(\"submission.csv\", index=False)"
   ]
  },
  {
   "cell_type": "code",
   "execution_count": 36,
   "metadata": {
    "colab": {
     "base_uri": "https://localhost:8080/",
     "height": 280
    },
    "colab_type": "code",
    "executionInfo": {
     "elapsed": 1198,
     "status": "ok",
     "timestamp": 1600552005091,
     "user": {
      "displayName": "Lokesh Gupta",
      "photoUrl": "https://lh3.googleusercontent.com/a-/AOh14Gji9BLG_yBHzfpNsVF1-hq2O8seojfrBmtSDr9g=s64",
      "userId": "00605890011976979562"
     },
     "user_tz": -330
    },
    "id": "4Tz-w2frdI9Q",
    "outputId": "f3a7bc5f-d3aa-45d0-8d3d-2199c506dd12"
   },
   "outputs": [
    {
     "data": {
      "image/png": "[encoded data removed]",
      "text/plain": [
       "<IPython.core.display.Image object>"
      ]
     },
     "execution_count": 36,
     "metadata": {
      "tags": []
     },
     "output_type": "execute_result"
    }
   ],
   "source": [
    "from IPython.display import Image\n",
    "Image(\"/content/Screenshot (4855).png\")"
   ]
  },
  {
   "cell_type": "code",
   "execution_count": null,
   "metadata": {
    "colab": {},
    "colab_type": "code",
    "id": "w9cqYpcAUxTt"
   },
   "outputs": [],
   "source": []
  }
 ],
 "metadata": {
  "accelerator": "GPU",
  "colab": {
   "collapsed_sections": [],
   "machine_shape": "hm",
   "name": "lgbm.ipynb",
   "provenance": [
    {
     "file_id": "1GqZu6zmCy2vMNMZqO78DDuHvwv_9vJcp",
     "timestamp": 1594563549946
    },
    {
     "file_id": "1IzPbxNFQmmSYk9s14L4YjBfUgACn9mW2",
     "timestamp": 1593978024316
    },
    {
     "file_id": "1G7NKeneJNyRtcRxLVbbF9jYtRyuTOa-R",
     "timestamp": 1592749700622
    },
    {
     "file_id": "https://github.com/satyajitghana/TSAI-DeepVision-EVA4.0/blob/master/Utils/Colab_25GBRAM_GPU.ipynb",
     "timestamp": 1592043804148
    }
   ]
  },
  "kernelspec": {
   "display_name": "Python 3",
   "language": "python",
   "name": "python3"
  },
  "language_info": {
   "codemirror_mode": {
    "name": "ipython",
    "version": 3
   },
   "file_extension": ".py",
   "mimetype": "text/x-python",
   "name": "python",
   "nbconvert_exporter": "python",
   "pygments_lexer": "ipython3",
   "version": "3.6.4"
  }
 },
 "nbformat": 4,
 "nbformat_minor": 1
}
