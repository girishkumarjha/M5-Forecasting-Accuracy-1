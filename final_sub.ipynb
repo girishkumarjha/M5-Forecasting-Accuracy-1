{
 "cells": [
  {
   "cell_type": "code",
   "execution_count": 1,
   "metadata": {
    "colab": {
     "base_uri": "https://localhost:8080/",
     "height": 35
    },
    "colab_type": "code",
    "executionInfo": {
     "elapsed": 20563,
     "status": "ok",
     "timestamp": 1600680943139,
     "user": {
      "displayName": "Lokesh gupta",
      "photoUrl": "https://lh3.googleusercontent.com/a-/AOh14GjgepOBUJNK5O4L3S_yCfIoggqUXSSiWvkPozefEA=s64",
      "userId": "01478317668303379605"
     },
     "user_tz": -330
    },
    "id": "7wVBrJXfU0fH",
    "outputId": "749b21e8-211f-48f8-9a64-631fe7ff6ce3"
   },
   "outputs": [
    {
     "name": "stdout",
     "output_type": "stream",
     "text": [
      "Mounted at /content/drive\n"
     ]
    }
   ],
   "source": [
    "from google.colab import drive\n",
    "drive.mount('/content/drive')"
   ]
  },
  {
   "cell_type": "markdown",
   "metadata": {
    "colab_type": "text",
    "id": "jv9erozGFD8Y"
   },
   "source": [
    "**Load the libraries**"
   ]
  },
  {
   "cell_type": "code",
   "execution_count": 4,
   "metadata": {
    "colab": {},
    "colab_type": "code",
    "executionInfo": {
     "elapsed": 721,
     "status": "ok",
     "timestamp": 1600681273095,
     "user": {
      "displayName": "Lokesh gupta",
      "photoUrl": "https://lh3.googleusercontent.com/a-/AOh14GjgepOBUJNK5O4L3S_yCfIoggqUXSSiWvkPozefEA=s64",
      "userId": "01478317668303379605"
     },
     "user_tz": -330
    },
    "id": "tAb77yZ9fzMG"
   },
   "outputs": [],
   "source": [
    "import pandas as pd\n",
    "import plotly.express as px\n",
    "import numpy as np\n",
    "import plotly.graph_objects as go\n",
    "import matplotlib.pylab as plt\n",
    "import seaborn as sns\n",
    "from tqdm import tqdm\n",
    "import random \n",
    "import datetime\n",
    "import joblib"
   ]
  },
  {
   "cell_type": "markdown",
   "metadata": {
    "colab_type": "text",
    "id": "od9LDiI8FNdo"
   },
   "source": [
    "**Load the data**"
   ]
  },
  {
   "cell_type": "code",
   "execution_count": 129,
   "metadata": {
    "colab": {},
    "colab_type": "code",
    "executionInfo": {
     "elapsed": 7162,
     "status": "ok",
     "timestamp": 1600698429436,
     "user": {
      "displayName": "Lokesh gupta",
      "photoUrl": "https://lh3.googleusercontent.com/a-/AOh14GjgepOBUJNK5O4L3S_yCfIoggqUXSSiWvkPozefEA=s64",
      "userId": "01478317668303379605"
     },
     "user_tz": -330
    },
    "id": "Rp1PLH7ZVrxC"
   },
   "outputs": [],
   "source": [
    "sales = pd.read_csv(\"/content/drive/My Drive/M5 Forcasting/sales_train_evaluation.csv\")\n",
    "price = pd.read_csv(\"/content/drive/My Drive/M5 Forcasting/sell_prices.csv\")\n",
    "cal = pd.read_csv(\"/content/drive/My Drive/M5 Forcasting/calendar.csv\")"
   ]
  },
  {
   "cell_type": "markdown",
   "metadata": {
    "colab_type": "text",
    "id": "2zehmjB6FeX9"
   },
   "source": [
    "**Pick the random point for testing**"
   ]
  },
  {
   "cell_type": "code",
   "execution_count": 153,
   "metadata": {
    "colab": {},
    "colab_type": "code",
    "executionInfo": {
     "elapsed": 1599,
     "status": "ok",
     "timestamp": 1600700706222,
     "user": {
      "displayName": "Lokesh gupta",
      "photoUrl": "https://lh3.googleusercontent.com/a-/AOh14GjgepOBUJNK5O4L3S_yCfIoggqUXSSiWvkPozefEA=s64",
      "userId": "01478317668303379605"
     },
     "user_tz": -330
    },
    "id": "ZPfVC2FhCnIa"
   },
   "outputs": [],
   "source": [
    "rand_data = random.choice(sales.values)\n",
    "data_point = pd.DataFrame(data=rand_data.reshape(1,-1),columns=sales.columns)"
   ]
  },
  {
   "cell_type": "code",
   "execution_count": 154,
   "metadata": {
    "colab": {
     "base_uri": "https://localhost:8080/",
     "height": 127
    },
    "colab_type": "code",
    "executionInfo": {
     "elapsed": 1293,
     "status": "ok",
     "timestamp": 1600700706845,
     "user": {
      "displayName": "Lokesh gupta",
      "photoUrl": "https://lh3.googleusercontent.com/a-/AOh14GjgepOBUJNK5O4L3S_yCfIoggqUXSSiWvkPozefEA=s64",
      "userId": "01478317668303379605"
     },
     "user_tz": -330
    },
    "id": "ARy7MYvtCnPF",
    "outputId": "4ee2aa3a-ba42-4fcc-d882-170bff5f47fc"
   },
   "outputs": [
    {
     "data": {
      "text/html": [
       "<div>\n",
       "<style scoped>\n",
       "    .dataframe tbody tr th:only-of-type {\n",
       "        vertical-align: middle;\n",
       "    }\n",
       "\n",
       "    .dataframe tbody tr th {\n",
       "        vertical-align: top;\n",
       "    }\n",
       "\n",
       "    .dataframe thead th {\n",
       "        text-align: right;\n",
       "    }\n",
       "</style>\n",
       "<table border=\"1\" class=\"dataframe\">\n",
       "  <thead>\n",
       "    <tr style=\"text-align: right;\">\n",
       "      <th></th>\n",
       "      <th>id</th>\n",
       "      <th>item_id</th>\n",
       "      <th>dept_id</th>\n",
       "      <th>cat_id</th>\n",
       "      <th>store_id</th>\n",
       "      <th>state_id</th>\n",
       "      <th>d_1</th>\n",
       "      <th>d_2</th>\n",
       "      <th>d_3</th>\n",
       "      <th>d_4</th>\n",
       "      <th>d_5</th>\n",
       "      <th>d_6</th>\n",
       "      <th>d_7</th>\n",
       "      <th>d_8</th>\n",
       "      <th>d_9</th>\n",
       "      <th>d_10</th>\n",
       "      <th>d_11</th>\n",
       "      <th>d_12</th>\n",
       "      <th>d_13</th>\n",
       "      <th>d_14</th>\n",
       "      <th>d_15</th>\n",
       "      <th>d_16</th>\n",
       "      <th>d_17</th>\n",
       "      <th>d_18</th>\n",
       "      <th>d_19</th>\n",
       "      <th>d_20</th>\n",
       "      <th>d_21</th>\n",
       "      <th>d_22</th>\n",
       "      <th>d_23</th>\n",
       "      <th>d_24</th>\n",
       "      <th>d_25</th>\n",
       "      <th>d_26</th>\n",
       "      <th>d_27</th>\n",
       "      <th>d_28</th>\n",
       "      <th>d_29</th>\n",
       "      <th>d_30</th>\n",
       "      <th>d_31</th>\n",
       "      <th>d_32</th>\n",
       "      <th>d_33</th>\n",
       "      <th>d_34</th>\n",
       "      <th>...</th>\n",
       "      <th>d_1902</th>\n",
       "      <th>d_1903</th>\n",
       "      <th>d_1904</th>\n",
       "      <th>d_1905</th>\n",
       "      <th>d_1906</th>\n",
       "      <th>d_1907</th>\n",
       "      <th>d_1908</th>\n",
       "      <th>d_1909</th>\n",
       "      <th>d_1910</th>\n",
       "      <th>d_1911</th>\n",
       "      <th>d_1912</th>\n",
       "      <th>d_1913</th>\n",
       "      <th>d_1914</th>\n",
       "      <th>d_1915</th>\n",
       "      <th>d_1916</th>\n",
       "      <th>d_1917</th>\n",
       "      <th>d_1918</th>\n",
       "      <th>d_1919</th>\n",
       "      <th>d_1920</th>\n",
       "      <th>d_1921</th>\n",
       "      <th>d_1922</th>\n",
       "      <th>d_1923</th>\n",
       "      <th>d_1924</th>\n",
       "      <th>d_1925</th>\n",
       "      <th>d_1926</th>\n",
       "      <th>d_1927</th>\n",
       "      <th>d_1928</th>\n",
       "      <th>d_1929</th>\n",
       "      <th>d_1930</th>\n",
       "      <th>d_1931</th>\n",
       "      <th>d_1932</th>\n",
       "      <th>d_1933</th>\n",
       "      <th>d_1934</th>\n",
       "      <th>d_1935</th>\n",
       "      <th>d_1936</th>\n",
       "      <th>d_1937</th>\n",
       "      <th>d_1938</th>\n",
       "      <th>d_1939</th>\n",
       "      <th>d_1940</th>\n",
       "      <th>d_1941</th>\n",
       "    </tr>\n",
       "  </thead>\n",
       "  <tbody>\n",
       "    <tr>\n",
       "      <th>0</th>\n",
       "      <td>FOODS_3_384_CA_4_evaluation</td>\n",
       "      <td>FOODS_3_384</td>\n",
       "      <td>FOODS_3</td>\n",
       "      <td>FOODS</td>\n",
       "      <td>CA_4</td>\n",
       "      <td>CA</td>\n",
       "      <td>0</td>\n",
       "      <td>0</td>\n",
       "      <td>0</td>\n",
       "      <td>0</td>\n",
       "      <td>0</td>\n",
       "      <td>0</td>\n",
       "      <td>0</td>\n",
       "      <td>0</td>\n",
       "      <td>0</td>\n",
       "      <td>0</td>\n",
       "      <td>0</td>\n",
       "      <td>0</td>\n",
       "      <td>0</td>\n",
       "      <td>0</td>\n",
       "      <td>0</td>\n",
       "      <td>0</td>\n",
       "      <td>0</td>\n",
       "      <td>0</td>\n",
       "      <td>0</td>\n",
       "      <td>0</td>\n",
       "      <td>0</td>\n",
       "      <td>0</td>\n",
       "      <td>0</td>\n",
       "      <td>0</td>\n",
       "      <td>0</td>\n",
       "      <td>0</td>\n",
       "      <td>0</td>\n",
       "      <td>0</td>\n",
       "      <td>0</td>\n",
       "      <td>0</td>\n",
       "      <td>0</td>\n",
       "      <td>0</td>\n",
       "      <td>0</td>\n",
       "      <td>0</td>\n",
       "      <td>...</td>\n",
       "      <td>0</td>\n",
       "      <td>0</td>\n",
       "      <td>0</td>\n",
       "      <td>2</td>\n",
       "      <td>1</td>\n",
       "      <td>2</td>\n",
       "      <td>0</td>\n",
       "      <td>2</td>\n",
       "      <td>1</td>\n",
       "      <td>0</td>\n",
       "      <td>0</td>\n",
       "      <td>2</td>\n",
       "      <td>2</td>\n",
       "      <td>2</td>\n",
       "      <td>1</td>\n",
       "      <td>0</td>\n",
       "      <td>2</td>\n",
       "      <td>0</td>\n",
       "      <td>1</td>\n",
       "      <td>4</td>\n",
       "      <td>0</td>\n",
       "      <td>1</td>\n",
       "      <td>0</td>\n",
       "      <td>1</td>\n",
       "      <td>0</td>\n",
       "      <td>1</td>\n",
       "      <td>0</td>\n",
       "      <td>1</td>\n",
       "      <td>0</td>\n",
       "      <td>0</td>\n",
       "      <td>0</td>\n",
       "      <td>1</td>\n",
       "      <td>1</td>\n",
       "      <td>1</td>\n",
       "      <td>1</td>\n",
       "      <td>0</td>\n",
       "      <td>0</td>\n",
       "      <td>0</td>\n",
       "      <td>0</td>\n",
       "      <td>0</td>\n",
       "    </tr>\n",
       "  </tbody>\n",
       "</table>\n",
       "<p>1 rows × 1947 columns</p>\n",
       "</div>"
      ],
      "text/plain": [
       "                            id      item_id  dept_id  ... d_1939 d_1940 d_1941\n",
       "0  FOODS_3_384_CA_4_evaluation  FOODS_3_384  FOODS_3  ...      0      0      0\n",
       "\n",
       "[1 rows x 1947 columns]"
      ]
     },
     "execution_count": 154,
     "metadata": {
      "tags": []
     },
     "output_type": "execute_result"
    }
   ],
   "source": [
    "data_point"
   ]
  },
  {
   "cell_type": "code",
   "execution_count": 132,
   "metadata": {
    "colab": {},
    "colab_type": "code",
    "executionInfo": {
     "elapsed": 853,
     "status": "ok",
     "timestamp": 1600698431160,
     "user": {
      "displayName": "Lokesh gupta",
      "photoUrl": "https://lh3.googleusercontent.com/a-/AOh14GjgepOBUJNK5O4L3S_yCfIoggqUXSSiWvkPozefEA=s64",
      "userId": "01478317668303379605"
     },
     "user_tz": -330
    },
    "id": "jiKF8uxrVr1-"
   },
   "outputs": [],
   "source": [
    "#https://www.kaggle.com/anshuls235/time-series-forecasting-eda-fe-modelling/notebook#2.-Downcasting\n",
    "\n",
    "def downcast(df):\n",
    "\n",
    "   \"\"\"\n",
    "     to downcast the data and reduce the size of data\n",
    "    \"\"\"\n",
    "\n",
    "    cols = df.dtypes.index.tolist()\n",
    "    types = df.dtypes.values.tolist()\n",
    "\n",
    "    for i,t in enumerate(types):\n",
    "\n",
    "        if 'int' in str(t):\n",
    "            if df[cols[i]].min() > np.iinfo(np.int8).min and df[cols[i]].max() < np.iinfo(np.int8).max:\n",
    "                df[cols[i]] = df[cols[i]].astype(np.int8)\n",
    "            elif df[cols[i]].min() > np.iinfo(np.int16).min and df[cols[i]].max() < np.iinfo(np.int16).max:\n",
    "                df[cols[i]] = df[cols[i]].astype(np.int16)\n",
    "            elif df[cols[i]].min() > np.iinfo(np.int32).min and df[cols[i]].max() < np.iinfo(np.int32).max:\n",
    "                df[cols[i]] = df[cols[i]].astype(np.int32)\n",
    "            else:\n",
    "                df[cols[i]] = df[cols[i]].astype(np.int64)\n",
    "\n",
    "        elif 'float' in str(t):\n",
    "            if df[cols[i]].min() > np.finfo(np.float16).min and df[cols[i]].max() < np.finfo(np.float16).max:\n",
    "                df[cols[i]] = df[cols[i]].astype(np.float16)\n",
    "            elif df[cols[i]].min() > np.finfo(np.float32).min and df[cols[i]].max() < np.finfo(np.float32).max:\n",
    "                df[cols[i]] = df[cols[i]].astype(np.float32)\n",
    "            else:\n",
    "                df[cols[i]] = df[cols[i]].astype(np.float64)\n",
    "\n",
    "        elif t == np.object:\n",
    "            if cols[i] == 'date':\n",
    "                df[cols[i]] = pd.to_datetime(df[cols[i]], format='%Y-%m-%d')\n",
    "            else:\n",
    "                df[cols[i]] = df[cols[i]].astype('category')\n",
    "\n",
    "    return df  "
   ]
  },
  {
   "cell_type": "code",
   "execution_count": 138,
   "metadata": {
    "colab": {},
    "colab_type": "code",
    "executionInfo": {
     "elapsed": 1152,
     "status": "ok",
     "timestamp": 1600698621254,
     "user": {
      "displayName": "Lokesh gupta",
      "photoUrl": "https://lh3.googleusercontent.com/a-/AOh14GjgepOBUJNK5O4L3S_yCfIoggqUXSSiWvkPozefEA=s64",
      "userId": "01478317668303379605"
     },
     "user_tz": -330
    },
    "id": "7enhVc9HCnMr"
   },
   "outputs": [],
   "source": [
    "\n",
    "def preprocessing(data):\n",
    "    \"\"\"\n",
    "     to preprocees the data and make it to supervised machine learning data\n",
    "    \"\"\"\n",
    "\n",
    "    # to downcasast the data and reduce the sizes of data\n",
    "    pre_data = downcast(data)\n",
    "    cal_d = downcast(cal)\n",
    "    price_d = downcast(price)\n",
    "\n",
    "    #fill sales zero in forecast values of next 28 days sales\n",
    "    for day in range(1942,1970):\n",
    "       pre_data['d_' + str(day)] = 0\n",
    "       pre_data['d_' + str(day)] = pre_data['d_' + str(day)].astype(np.int16)\n",
    "\n",
    "    #combine the datasets into a single supervised machine learning dataset\n",
    "    pre_data = pd.melt(pre_data, id_vars=[a for a in data_point.columns if a.find(\"id\")!=-1],\n",
    "                           value_vars=[a for a in data_point.columns if a.find(\"d_\")==0], var_name='d', value_name='sales')\n",
    "  \n",
    "    pre_data = pd.merge(pre_data, cal_d, on='d', how='left')\n",
    "    pre_data = pd.merge(pre_data, price_d, on=['store_id','item_id','wm_yr_wk'], how='left')\n",
    "\n",
    "    #fil the missing sell price values by mean imputaion\n",
    "    pre_data[\"sell_price\"].fillna(pre_data.groupby(\"id\")[\"sell_price\"].transform(\"mean\"), inplace=True)\n",
    "    \n",
    "    pre_data.drop(columns=[\"date\",\"weekday\"], inplace=True)\n",
    "    pre_data['d'] = pre_data['d'].apply(lambda a: a.split('_')[1]).astype(np.int16)\n",
    "\n",
    "    return pre_data"
   ]
  },
  {
   "cell_type": "code",
   "execution_count": 139,
   "metadata": {
    "colab": {},
    "colab_type": "code",
    "executionInfo": {
     "elapsed": 1202,
     "status": "ok",
     "timestamp": 1600698625716,
     "user": {
      "displayName": "Lokesh gupta",
      "photoUrl": "https://lh3.googleusercontent.com/a-/AOh14GjgepOBUJNK5O4L3S_yCfIoggqUXSSiWvkPozefEA=s64",
      "userId": "01478317668303379605"
     },
     "user_tz": -330
    },
    "id": "B-pWOrH6D3z-"
   },
   "outputs": [],
   "source": [
    "def feature_engineering(data):\n",
    "\n",
    "  #label encoding features\n",
    "\n",
    "   columns = list(data.columns)\n",
    "   d_types = list(data.dtypes.values)\n",
    "\n",
    "   for a, d_t in enumerate(d_types):\n",
    "     if d_t.name == 'object':\n",
    "       data[columns[a]] = data[columns[a]].astype(\"category\") \n",
    "\n",
    "   d_types = list(data.dtypes.values)\n",
    "   for a, d_t in enumerate(d_types):\n",
    "     if d_t.name == 'category':\n",
    "       data[columns[a]] = data[columns[a]].cat.codes\n",
    "       \n",
    "  #lag features\n",
    "   lags = [28, 35, 42, 49, 56, 63, 70, 77]\n",
    "   for lag in tqdm(lags):\n",
    "      data[\"lag_\" + str(lag)] = data.groupby(\"id\")[\"sales\"].shift(lag).astype(np.float16)   \n",
    "\n",
    "  #rolling median features\n",
    "   data['lag_28'] = data.groupby('id')['sales'].transform(lambda x: x.shift(28)).astype(np.float16) \n",
    "   data['rolling_median_7'] = data.groupby('id')['lag_28'].transform(lambda x: x.rolling(7).median())\n",
    "   data['rolling_median_28'] = data.groupby('id')['lag_28'].transform(lambda x: x.rolling(28).median())\n",
    "   data['rolling_median_50'] = data.groupby('id')['lag_28'].transform(lambda x: x.rolling(50).median())\n",
    "   \n",
    "   data.drop('sales',axis=1,inplace=True)\n",
    "   data = data[data['d']>1050]\n",
    "\n",
    "   return data"
   ]
  },
  {
   "cell_type": "markdown",
   "metadata": {
    "colab_type": "text",
    "id": "an3vZtICKuNC"
   },
   "source": [
    "Forcasting the data point with best model "
   ]
  },
  {
   "cell_type": "code",
   "execution_count": 146,
   "metadata": {
    "colab": {},
    "colab_type": "code",
    "executionInfo": {
     "elapsed": 942,
     "status": "ok",
     "timestamp": 1600700651127,
     "user": {
      "displayName": "Lokesh gupta",
      "photoUrl": "https://lh3.googleusercontent.com/a-/AOh14GjgepOBUJNK5O4L3S_yCfIoggqUXSSiWvkPozefEA=s64",
      "userId": "01478317668303379605"
     },
     "user_tz": -330
    },
    "id": "f4cJz4r-B9xW"
   },
   "outputs": [],
   "source": [
    "def final_fun(data_point):\n",
    "\n",
    "  pre_data_point = preprocessing(data_point)\n",
    "  fin_data_point = feature_engineering(pre_data_point)\n",
    "\n",
    "  model = joblib.load(\"/content/drive/My Drive/M5 Forcasting/final_model\")\n",
    "\n",
    "  for d in range(1914, 1942):\n",
    "      data_point['F_' + str(d)] = model.predict(a[a['d']==d])\n",
    "\n",
    "  forecast_values = [a for a in data_point.columns if a.find(\"F_\") == 0]\n",
    "\n",
    "  return data_point[forecast_values]"
   ]
  },
  {
   "cell_type": "markdown",
   "metadata": {
    "colab_type": "text",
    "id": "zN0ekZAmKRgo"
   },
   "source": [
    "Forcasted value"
   ]
  },
  {
   "cell_type": "code",
   "execution_count": 147,
   "metadata": {
    "colab": {
     "base_uri": "https://localhost:8080/",
     "height": 116
    },
    "colab_type": "code",
    "executionInfo": {
     "elapsed": 9251,
     "status": "ok",
     "timestamp": 1600700662458,
     "user": {
      "displayName": "Lokesh gupta",
      "photoUrl": "https://lh3.googleusercontent.com/a-/AOh14GjgepOBUJNK5O4L3S_yCfIoggqUXSSiWvkPozefEA=s64",
      "userId": "01478317668303379605"
     },
     "user_tz": -330
    },
    "id": "wHfTGEmHB9uO",
    "outputId": "2b765347-5101-4899-e418-00c620e9eb79"
   },
   "outputs": [
    {
     "name": "stderr",
     "output_type": "stream",
     "text": [
      "100%|██████████| 8/8 [00:00<00:00, 474.37it/s]\n"
     ]
    },
    {
     "data": {
      "text/html": [
       "<div>\n",
       "<style scoped>\n",
       "    .dataframe tbody tr th:only-of-type {\n",
       "        vertical-align: middle;\n",
       "    }\n",
       "\n",
       "    .dataframe tbody tr th {\n",
       "        vertical-align: top;\n",
       "    }\n",
       "\n",
       "    .dataframe thead th {\n",
       "        text-align: right;\n",
       "    }\n",
       "</style>\n",
       "<table border=\"1\" class=\"dataframe\">\n",
       "  <thead>\n",
       "    <tr style=\"text-align: right;\">\n",
       "      <th></th>\n",
       "      <th>F_1914</th>\n",
       "      <th>F_1915</th>\n",
       "      <th>F_1916</th>\n",
       "      <th>F_1917</th>\n",
       "      <th>F_1918</th>\n",
       "      <th>F_1919</th>\n",
       "      <th>F_1920</th>\n",
       "      <th>F_1921</th>\n",
       "      <th>F_1922</th>\n",
       "      <th>F_1923</th>\n",
       "      <th>F_1924</th>\n",
       "      <th>F_1925</th>\n",
       "      <th>F_1926</th>\n",
       "      <th>F_1927</th>\n",
       "      <th>F_1928</th>\n",
       "      <th>F_1929</th>\n",
       "      <th>F_1930</th>\n",
       "      <th>F_1931</th>\n",
       "      <th>F_1932</th>\n",
       "      <th>F_1933</th>\n",
       "      <th>F_1934</th>\n",
       "      <th>F_1935</th>\n",
       "      <th>F_1936</th>\n",
       "      <th>F_1937</th>\n",
       "      <th>F_1938</th>\n",
       "      <th>F_1939</th>\n",
       "      <th>F_1940</th>\n",
       "      <th>F_1941</th>\n",
       "    </tr>\n",
       "  </thead>\n",
       "  <tbody>\n",
       "    <tr>\n",
       "      <th>0</th>\n",
       "      <td>0.464629</td>\n",
       "      <td>0.327662</td>\n",
       "      <td>0.359832</td>\n",
       "      <td>0.441222</td>\n",
       "      <td>0.428819</td>\n",
       "      <td>0.448462</td>\n",
       "      <td>0.537568</td>\n",
       "      <td>0.365309</td>\n",
       "      <td>0.356559</td>\n",
       "      <td>0.347148</td>\n",
       "      <td>0.405443</td>\n",
       "      <td>0.411749</td>\n",
       "      <td>0.462366</td>\n",
       "      <td>0.569566</td>\n",
       "      <td>0.465116</td>\n",
       "      <td>0.332329</td>\n",
       "      <td>0.354548</td>\n",
       "      <td>0.393045</td>\n",
       "      <td>0.389429</td>\n",
       "      <td>0.447126</td>\n",
       "      <td>0.762537</td>\n",
       "      <td>0.466107</td>\n",
       "      <td>0.323186</td>\n",
       "      <td>0.326531</td>\n",
       "      <td>0.421448</td>\n",
       "      <td>0.364692</td>\n",
       "      <td>0.438671</td>\n",
       "      <td>0.711514</td>\n",
       "    </tr>\n",
       "  </tbody>\n",
       "</table>\n",
       "</div>"
      ],
      "text/plain": [
       "     F_1914    F_1915    F_1916  ...    F_1939    F_1940    F_1941\n",
       "0  0.464629  0.327662  0.359832  ...  0.364692  0.438671  0.711514\n",
       "\n",
       "[1 rows x 28 columns]"
      ]
     },
     "execution_count": 147,
     "metadata": {
      "tags": []
     },
     "output_type": "execute_result"
    }
   ],
   "source": [
    "final_fun(data_point)"
   ]
  },
  {
   "cell_type": "code",
   "execution_count": null,
   "metadata": {
    "colab": {},
    "colab_type": "code",
    "id": "1lBihXBEB9rZ"
   },
   "outputs": [],
   "source": []
  },
  {
   "cell_type": "code",
   "execution_count": null,
   "metadata": {
    "colab": {},
    "colab_type": "code",
    "id": "q-Cnwdd0Wxqn"
   },
   "outputs": [],
   "source": []
  },
  {
   "cell_type": "code",
   "execution_count": null,
   "metadata": {
    "colab": {},
    "colab_type": "code",
    "id": "c4ZFXoZPWxmu"
   },
   "outputs": [],
   "source": []
  },
  {
   "cell_type": "code",
   "execution_count": null,
   "metadata": {
    "colab": {},
    "colab_type": "code",
    "id": "-ux_e5V-Wxhc"
   },
   "outputs": [],
   "source": []
  },
  {
   "cell_type": "code",
   "execution_count": null,
   "metadata": {
    "colab": {},
    "colab_type": "code",
    "id": "e24AkArOWj-L"
   },
   "outputs": [],
   "source": []
  }
 ],
 "metadata": {
  "accelerator": "GPU",
  "colab": {
   "collapsed_sections": [],
   "machine_shape": "hm",
   "name": "final_sub.ipynb",
   "provenance": [
    {
     "file_id": "1GqZu6zmCy2vMNMZqO78DDuHvwv_9vJcp",
     "timestamp": 1594563549946
    },
    {
     "file_id": "1IzPbxNFQmmSYk9s14L4YjBfUgACn9mW2",
     "timestamp": 1593978024316
    },
    {
     "file_id": "1G7NKeneJNyRtcRxLVbbF9jYtRyuTOa-R",
     "timestamp": 1592749700622
    },
    {
     "file_id": "https://github.com/satyajitghana/TSAI-DeepVision-EVA4.0/blob/master/Utils/Colab_25GBRAM_GPU.ipynb",
     "timestamp": 1592043804148
    }
   ]
  },
  "kernelspec": {
   "display_name": "Python 3",
   "language": "python",
   "name": "python3"
  },
  "language_info": {
   "codemirror_mode": {
    "name": "ipython",
    "version": 3
   },
   "file_extension": ".py",
   "mimetype": "text/x-python",
   "name": "python",
   "nbconvert_exporter": "python",
   "pygments_lexer": "ipython3",
   "version": "3.6.4"
  }
 },
 "nbformat": 4,
 "nbformat_minor": 1
}
